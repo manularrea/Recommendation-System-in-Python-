{
 "cells": [
  {
   "cell_type": "markdown",
   "metadata": {},
   "source": [
    "## **Sistemas de Recomendación** \n",
    "        Por: Manuela Larrea Gómez\n",
    "        Profesor: Juan de Dios Romero Palop\n",
    "\n",
    "\n",
    "**Máster en Data Science, Big Data e Inteligencia Artificial - Afi Escuela**"
   ]
  },
  {
   "cell_type": "markdown",
   "metadata": {},
   "source": [
    "### Ejercicio 1: Recomendador basado en contenidos\n",
    "\n",
    "\n",
    "Para este ejercicio se usaron los datos: \n",
    "* https://datasets.imdbws.com/title.basics.tsv.gz\n",
    "* https://datasets.imdbws.com/title.ratings.tsv.gz\n",
    "\n",
    "Y el json resultante del scrapping de la página para obtener las keywords de las peliculas, es una muestra con las siguientes caracteristicas: \n",
    "* Películas con puntuación mayor o igual a 8\n",
    "* Películas con más de 770 votos \n",
    "\n",
    "Todos los datos fueron suministrados y almacenados en la carpeta 'datos'.\n"
   ]
  },
  {
   "cell_type": "code",
   "execution_count": 1,
   "metadata": {},
   "outputs": [],
   "source": [
    "import matplotlib.pyplot as plt\n",
    "import numpy as np\n",
    "import pandas as pd\n",
    "import seaborn as sns\n",
    "\n",
    "from sklearn.feature_extraction.text import TfidfVectorizer\n",
    "from sklearn.metrics.pairwise import cosine_similarity"
   ]
  },
  {
   "cell_type": "code",
   "execution_count": 2,
   "metadata": {},
   "outputs": [
    {
     "name": "stderr",
     "output_type": "stream",
     "text": [
      "C:\\Users\\manu-\\AppData\\Local\\Temp\\ipykernel_23056\\2151913261.py:1: DtypeWarning: Columns (4) have mixed types. Specify dtype option on import or set low_memory=False.\n",
      "  imdb_basics = pd.read_csv(\"datos/title.basics.tsv\", sep=\"\\t\")\n"
     ]
    }
   ],
   "source": [
    "imdb_basics = pd.read_csv(\"datos/title.basics.tsv\", sep=\"\\t\")"
   ]
  },
  {
   "cell_type": "code",
   "execution_count": 3,
   "metadata": {},
   "outputs": [
    {
     "data": {
      "text/html": [
       "<div>\n",
       "<style scoped>\n",
       "    .dataframe tbody tr th:only-of-type {\n",
       "        vertical-align: middle;\n",
       "    }\n",
       "\n",
       "    .dataframe tbody tr th {\n",
       "        vertical-align: top;\n",
       "    }\n",
       "\n",
       "    .dataframe thead th {\n",
       "        text-align: right;\n",
       "    }\n",
       "</style>\n",
       "<table border=\"1\" class=\"dataframe\">\n",
       "  <thead>\n",
       "    <tr style=\"text-align: right;\">\n",
       "      <th></th>\n",
       "      <th>tconst</th>\n",
       "      <th>titleType</th>\n",
       "      <th>primaryTitle</th>\n",
       "      <th>originalTitle</th>\n",
       "      <th>isAdult</th>\n",
       "      <th>startYear</th>\n",
       "      <th>endYear</th>\n",
       "      <th>runtimeMinutes</th>\n",
       "      <th>genres</th>\n",
       "    </tr>\n",
       "  </thead>\n",
       "  <tbody>\n",
       "    <tr>\n",
       "      <th>0</th>\n",
       "      <td>tt0000001</td>\n",
       "      <td>short</td>\n",
       "      <td>Carmencita</td>\n",
       "      <td>Carmencita</td>\n",
       "      <td>0</td>\n",
       "      <td>1894</td>\n",
       "      <td>\\N</td>\n",
       "      <td>1</td>\n",
       "      <td>Documentary,Short</td>\n",
       "    </tr>\n",
       "    <tr>\n",
       "      <th>1</th>\n",
       "      <td>tt0000002</td>\n",
       "      <td>short</td>\n",
       "      <td>Le clown et ses chiens</td>\n",
       "      <td>Le clown et ses chiens</td>\n",
       "      <td>0</td>\n",
       "      <td>1892</td>\n",
       "      <td>\\N</td>\n",
       "      <td>5</td>\n",
       "      <td>Animation,Short</td>\n",
       "    </tr>\n",
       "    <tr>\n",
       "      <th>2</th>\n",
       "      <td>tt0000003</td>\n",
       "      <td>short</td>\n",
       "      <td>Pauvre Pierrot</td>\n",
       "      <td>Pauvre Pierrot</td>\n",
       "      <td>0</td>\n",
       "      <td>1892</td>\n",
       "      <td>\\N</td>\n",
       "      <td>5</td>\n",
       "      <td>Animation,Comedy,Romance</td>\n",
       "    </tr>\n",
       "  </tbody>\n",
       "</table>\n",
       "</div>"
      ],
      "text/plain": [
       "      tconst titleType            primaryTitle           originalTitle  \\\n",
       "0  tt0000001     short              Carmencita              Carmencita   \n",
       "1  tt0000002     short  Le clown et ses chiens  Le clown et ses chiens   \n",
       "2  tt0000003     short          Pauvre Pierrot          Pauvre Pierrot   \n",
       "\n",
       "  isAdult startYear endYear runtimeMinutes                    genres  \n",
       "0       0      1894      \\N              1         Documentary,Short  \n",
       "1       0      1892      \\N              5           Animation,Short  \n",
       "2       0      1892      \\N              5  Animation,Comedy,Romance  "
      ]
     },
     "execution_count": 3,
     "metadata": {},
     "output_type": "execute_result"
    }
   ],
   "source": [
    "imdb_basics.head(3)"
   ]
  },
  {
   "cell_type": "code",
   "execution_count": 4,
   "metadata": {},
   "outputs": [
    {
     "data": {
      "text/plain": [
       "titleType\n",
       "movie            678435\n",
       "short            990715\n",
       "tvEpisode       8202435\n",
       "tvMiniSeries      53845\n",
       "tvMovie          145187\n",
       "tvPilot               1\n",
       "tvSeries         261544\n",
       "tvShort           10291\n",
       "tvSpecial         47337\n",
       "video            291119\n",
       "videoGame         38072\n",
       "Name: tconst, dtype: int64"
      ]
     },
     "execution_count": 4,
     "metadata": {},
     "output_type": "execute_result"
    }
   ],
   "source": [
    "imdb_basics.groupby(\"titleType\").tconst.count()"
   ]
  },
  {
   "cell_type": "code",
   "execution_count": 5,
   "metadata": {},
   "outputs": [],
   "source": [
    "imdb_basics_pelis = imdb_basics[imdb_basics.titleType == \"movie\"]"
   ]
  },
  {
   "cell_type": "code",
   "execution_count": 6,
   "metadata": {},
   "outputs": [],
   "source": [
    "imdb_ratings = pd.read_csv(\"datos/title.ratings.tsv\", sep=\"\\t\")"
   ]
  },
  {
   "cell_type": "code",
   "execution_count": 7,
   "metadata": {},
   "outputs": [
    {
     "data": {
      "text/html": [
       "<div>\n",
       "<style scoped>\n",
       "    .dataframe tbody tr th:only-of-type {\n",
       "        vertical-align: middle;\n",
       "    }\n",
       "\n",
       "    .dataframe tbody tr th {\n",
       "        vertical-align: top;\n",
       "    }\n",
       "\n",
       "    .dataframe thead th {\n",
       "        text-align: right;\n",
       "    }\n",
       "</style>\n",
       "<table border=\"1\" class=\"dataframe\">\n",
       "  <thead>\n",
       "    <tr style=\"text-align: right;\">\n",
       "      <th></th>\n",
       "      <th>tconst</th>\n",
       "      <th>averageRating</th>\n",
       "      <th>numVotes</th>\n",
       "    </tr>\n",
       "  </thead>\n",
       "  <tbody>\n",
       "    <tr>\n",
       "      <th>0</th>\n",
       "      <td>tt0000001</td>\n",
       "      <td>5.7</td>\n",
       "      <td>2046</td>\n",
       "    </tr>\n",
       "    <tr>\n",
       "      <th>1</th>\n",
       "      <td>tt0000002</td>\n",
       "      <td>5.7</td>\n",
       "      <td>275</td>\n",
       "    </tr>\n",
       "    <tr>\n",
       "      <th>2</th>\n",
       "      <td>tt0000003</td>\n",
       "      <td>6.5</td>\n",
       "      <td>2005</td>\n",
       "    </tr>\n",
       "  </tbody>\n",
       "</table>\n",
       "</div>"
      ],
      "text/plain": [
       "      tconst  averageRating  numVotes\n",
       "0  tt0000001            5.7      2046\n",
       "1  tt0000002            5.7       275\n",
       "2  tt0000003            6.5      2005"
      ]
     },
     "execution_count": 7,
     "metadata": {},
     "output_type": "execute_result"
    }
   ],
   "source": [
    "imdb_ratings.head(3)"
   ]
  },
  {
   "cell_type": "code",
   "execution_count": 8,
   "metadata": {},
   "outputs": [
    {
     "data": {
      "text/plain": [
       "1429360"
      ]
     },
     "execution_count": 8,
     "metadata": {},
     "output_type": "execute_result"
    }
   ],
   "source": [
    "len(imdb_ratings)"
   ]
  },
  {
   "cell_type": "code",
   "execution_count": 9,
   "metadata": {},
   "outputs": [],
   "source": [
    "imdb_ratings = imdb_ratings.merge(imdb_basics_pelis[[\"tconst\"]], on=\"tconst\")"
   ]
  },
  {
   "cell_type": "code",
   "execution_count": 10,
   "metadata": {},
   "outputs": [
    {
     "data": {
      "text/plain": [
       "308594"
      ]
     },
     "execution_count": 10,
     "metadata": {},
     "output_type": "execute_result"
    }
   ],
   "source": [
    "len(imdb_ratings)"
   ]
  },
  {
   "cell_type": "code",
   "execution_count": 11,
   "metadata": {},
   "outputs": [
    {
     "data": {
      "text/html": [
       "<div>\n",
       "<style scoped>\n",
       "    .dataframe tbody tr th:only-of-type {\n",
       "        vertical-align: middle;\n",
       "    }\n",
       "\n",
       "    .dataframe tbody tr th {\n",
       "        vertical-align: top;\n",
       "    }\n",
       "\n",
       "    .dataframe thead th {\n",
       "        text-align: right;\n",
       "    }\n",
       "</style>\n",
       "<table border=\"1\" class=\"dataframe\">\n",
       "  <thead>\n",
       "    <tr style=\"text-align: right;\">\n",
       "      <th></th>\n",
       "      <th>tconst</th>\n",
       "      <th>averageRating</th>\n",
       "      <th>numVotes</th>\n",
       "    </tr>\n",
       "  </thead>\n",
       "  <tbody>\n",
       "    <tr>\n",
       "      <th>0</th>\n",
       "      <td>tt0000009</td>\n",
       "      <td>5.3</td>\n",
       "      <td>210</td>\n",
       "    </tr>\n",
       "    <tr>\n",
       "      <th>1</th>\n",
       "      <td>tt0000147</td>\n",
       "      <td>5.2</td>\n",
       "      <td>511</td>\n",
       "    </tr>\n",
       "    <tr>\n",
       "      <th>2</th>\n",
       "      <td>tt0000502</td>\n",
       "      <td>4.4</td>\n",
       "      <td>17</td>\n",
       "    </tr>\n",
       "    <tr>\n",
       "      <th>3</th>\n",
       "      <td>tt0000574</td>\n",
       "      <td>6.0</td>\n",
       "      <td>886</td>\n",
       "    </tr>\n",
       "    <tr>\n",
       "      <th>4</th>\n",
       "      <td>tt0000591</td>\n",
       "      <td>5.4</td>\n",
       "      <td>24</td>\n",
       "    </tr>\n",
       "  </tbody>\n",
       "</table>\n",
       "</div>"
      ],
      "text/plain": [
       "      tconst  averageRating  numVotes\n",
       "0  tt0000009            5.3       210\n",
       "1  tt0000147            5.2       511\n",
       "2  tt0000502            4.4        17\n",
       "3  tt0000574            6.0       886\n",
       "4  tt0000591            5.4        24"
      ]
     },
     "execution_count": 11,
     "metadata": {},
     "output_type": "execute_result"
    }
   ],
   "source": [
    "imdb_ratings.head()"
   ]
  },
  {
   "cell_type": "code",
   "execution_count": 12,
   "metadata": {},
   "outputs": [
    {
     "data": {
      "text/html": [
       "<div>\n",
       "<style scoped>\n",
       "    .dataframe tbody tr th:only-of-type {\n",
       "        vertical-align: middle;\n",
       "    }\n",
       "\n",
       "    .dataframe tbody tr th {\n",
       "        vertical-align: top;\n",
       "    }\n",
       "\n",
       "    .dataframe thead th {\n",
       "        text-align: right;\n",
       "    }\n",
       "</style>\n",
       "<table border=\"1\" class=\"dataframe\">\n",
       "  <thead>\n",
       "    <tr style=\"text-align: right;\">\n",
       "      <th></th>\n",
       "      <th>averageRating</th>\n",
       "      <th>numVotes</th>\n",
       "    </tr>\n",
       "  </thead>\n",
       "  <tbody>\n",
       "    <tr>\n",
       "      <th>count</th>\n",
       "      <td>308594.000000</td>\n",
       "      <td>3.085940e+05</td>\n",
       "    </tr>\n",
       "    <tr>\n",
       "      <th>mean</th>\n",
       "      <td>6.176612</td>\n",
       "      <td>3.633485e+03</td>\n",
       "    </tr>\n",
       "    <tr>\n",
       "      <th>std</th>\n",
       "      <td>1.374829</td>\n",
       "      <td>3.613568e+04</td>\n",
       "    </tr>\n",
       "    <tr>\n",
       "      <th>min</th>\n",
       "      <td>1.000000</td>\n",
       "      <td>5.000000e+00</td>\n",
       "    </tr>\n",
       "    <tr>\n",
       "      <th>25%</th>\n",
       "      <td>5.300000</td>\n",
       "      <td>1.900000e+01</td>\n",
       "    </tr>\n",
       "    <tr>\n",
       "      <th>50%</th>\n",
       "      <td>6.300000</td>\n",
       "      <td>6.200000e+01</td>\n",
       "    </tr>\n",
       "    <tr>\n",
       "      <th>75%</th>\n",
       "      <td>7.100000</td>\n",
       "      <td>3.150000e+02</td>\n",
       "    </tr>\n",
       "    <tr>\n",
       "      <th>max</th>\n",
       "      <td>10.000000</td>\n",
       "      <td>2.886099e+06</td>\n",
       "    </tr>\n",
       "  </tbody>\n",
       "</table>\n",
       "</div>"
      ],
      "text/plain": [
       "       averageRating      numVotes\n",
       "count  308594.000000  3.085940e+05\n",
       "mean        6.176612  3.633485e+03\n",
       "std         1.374829  3.613568e+04\n",
       "min         1.000000  5.000000e+00\n",
       "25%         5.300000  1.900000e+01\n",
       "50%         6.300000  6.200000e+01\n",
       "75%         7.100000  3.150000e+02\n",
       "max        10.000000  2.886099e+06"
      ]
     },
     "execution_count": 12,
     "metadata": {},
     "output_type": "execute_result"
    }
   ],
   "source": [
    "imdb_ratings.describe()"
   ]
  },
  {
   "cell_type": "code",
   "execution_count": 13,
   "metadata": {},
   "outputs": [
    {
     "name": "stderr",
     "output_type": "stream",
     "text": [
      "C:\\Users\\manu-\\AppData\\Local\\Temp\\ipykernel_23056\\1183649460.py:1: UserWarning: \n",
      "\n",
      "`distplot` is a deprecated function and will be removed in seaborn v0.14.0.\n",
      "\n",
      "Please adapt your code to use either `displot` (a figure-level function with\n",
      "similar flexibility) or `histplot` (an axes-level function for histograms).\n",
      "\n",
      "For a guide to updating your code to use the new functions, please see\n",
      "https://gist.github.com/mwaskom/de44147ed2974457ad6372750bbe5751\n",
      "\n",
      "  sns.distplot(imdb_ratings[\"averageRating\"])\n",
      "c:\\Users\\manu-\\anaconda3\\Lib\\site-packages\\seaborn\\_oldcore.py:1119: FutureWarning: use_inf_as_na option is deprecated and will be removed in a future version. Convert inf values to NaN before operating instead.\n",
      "  with pd.option_context('mode.use_inf_as_na', True):\n"
     ]
    },
    {
     "data": {
      "text/plain": [
       "<Axes: xlabel='averageRating', ylabel='Density'>"
      ]
     },
     "execution_count": 13,
     "metadata": {},
     "output_type": "execute_result"
    },
    {
     "data": {
      "image/png": "[encoded data removed]",
      "text/plain": [
       "<Figure size 640x480 with 1 Axes>"
      ]
     },
     "metadata": {},
     "output_type": "display_data"
    }
   ],
   "source": [
    "sns.distplot(imdb_ratings[\"averageRating\"])"
   ]
  },
  {
   "cell_type": "markdown",
   "metadata": {},
   "source": [
    "Se extrae una muestra"
   ]
  },
  {
   "cell_type": "code",
   "execution_count": 14,
   "metadata": {},
   "outputs": [],
   "source": [
    "ids_quiero = imdb_ratings.tconst.values[\n",
    "    (imdb_ratings.averageRating >= 8) & (imdb_ratings.numVotes >= 770)\n",
    "]"
   ]
  },
  {
   "cell_type": "code",
   "execution_count": 15,
   "metadata": {},
   "outputs": [
    {
     "data": {
      "text/plain": [
       "(1844,)"
      ]
     },
     "execution_count": 15,
     "metadata": {},
     "output_type": "execute_result"
    }
   ],
   "source": [
    "ids_quiero.shape"
   ]
  },
  {
   "cell_type": "code",
   "execution_count": 54,
   "metadata": {},
   "outputs": [],
   "source": [
    "keywords_df = pd.read_json(\"datos/imdb_example_keywords.json\")"
   ]
  },
  {
   "cell_type": "code",
   "execution_count": 22,
   "metadata": {},
   "outputs": [
    {
     "data": {
      "text/html": [
       "<div>\n",
       "<style scoped>\n",
       "    .dataframe tbody tr th:only-of-type {\n",
       "        vertical-align: middle;\n",
       "    }\n",
       "\n",
       "    .dataframe tbody tr th {\n",
       "        vertical-align: top;\n",
       "    }\n",
       "\n",
       "    .dataframe thead th {\n",
       "        text-align: right;\n",
       "    }\n",
       "</style>\n",
       "<table border=\"1\" class=\"dataframe\">\n",
       "  <thead>\n",
       "    <tr style=\"text-align: right;\">\n",
       "      <th></th>\n",
       "      <th>idImdb</th>\n",
       "      <th>keywords</th>\n",
       "      <th>titulo</th>\n",
       "    </tr>\n",
       "  </thead>\n",
       "  <tbody>\n",
       "    <tr>\n",
       "      <th>0</th>\n",
       "      <td>tt0006864</td>\n",
       "      <td>[multiple storyline, babylon babylonia, paris ...</td>\n",
       "      <td>Intolerancia (1916)</td>\n",
       "    </tr>\n",
       "    <tr>\n",
       "      <th>1</th>\n",
       "      <td>tt0010323</td>\n",
       "      <td>[somnambulist, expressionism, hypnosis, avant ...</td>\n",
       "      <td>El gabinete del Dr. Caligari (1920)</td>\n",
       "    </tr>\n",
       "    <tr>\n",
       "      <th>2</th>\n",
       "      <td>tt0012349</td>\n",
       "      <td>[lucifer morningstar character, the little tra...</td>\n",
       "      <td>El chico (1921)</td>\n",
       "    </tr>\n",
       "    <tr>\n",
       "      <th>3</th>\n",
       "      <td>tt0012364</td>\n",
       "      <td>[ghost story, ghost, salvation, alcoholic, tub...</td>\n",
       "      <td>La carreta fantasma (1921)</td>\n",
       "    </tr>\n",
       "    <tr>\n",
       "      <th>4</th>\n",
       "      <td>tt0013442</td>\n",
       "      <td>[vampire, self sacrifice, bite mark, dracula, ...</td>\n",
       "      <td>Nosferatu (1922)</td>\n",
       "    </tr>\n",
       "    <tr>\n",
       "      <th>...</th>\n",
       "      <td>...</td>\n",
       "      <td>...</td>\n",
       "      <td>...</td>\n",
       "    </tr>\n",
       "    <tr>\n",
       "      <th>1497</th>\n",
       "      <td>tt8760684</td>\n",
       "      <td>[apollo 11, neil armstrong, buzz aldrin, astro...</td>\n",
       "      <td>Apollo 11 (2019)</td>\n",
       "    </tr>\n",
       "    <tr>\n",
       "      <th>1498</th>\n",
       "      <td>tt9124428</td>\n",
       "      <td>[horse, race, love, success, turkey, hope, can...</td>\n",
       "      <td>Bizim Için Sampiyon (2018)</td>\n",
       "    </tr>\n",
       "    <tr>\n",
       "      <th>1499</th>\n",
       "      <td>tt9135854</td>\n",
       "      <td>[football, barcelona fc, reference to pep guar...</td>\n",
       "      <td>Take the ball, pass the ball (Toca y pasa el b...</td>\n",
       "    </tr>\n",
       "    <tr>\n",
       "      <th>1500</th>\n",
       "      <td>tt9151704</td>\n",
       "      <td>[korean boy band, pool party, testimonial, con...</td>\n",
       "      <td>Burn The Stage. The movie (2018)</td>\n",
       "    </tr>\n",
       "    <tr>\n",
       "      <th>1501</th>\n",
       "      <td>tt9343826</td>\n",
       "      <td>[romcom]</td>\n",
       "      <td>Ananthu V/S Nusrath (2018)</td>\n",
       "    </tr>\n",
       "  </tbody>\n",
       "</table>\n",
       "<p>1502 rows × 3 columns</p>\n",
       "</div>"
      ],
      "text/plain": [
       "         idImdb                                           keywords  \\\n",
       "0     tt0006864  [multiple storyline, babylon babylonia, paris ...   \n",
       "1     tt0010323  [somnambulist, expressionism, hypnosis, avant ...   \n",
       "2     tt0012349  [lucifer morningstar character, the little tra...   \n",
       "3     tt0012364  [ghost story, ghost, salvation, alcoholic, tub...   \n",
       "4     tt0013442  [vampire, self sacrifice, bite mark, dracula, ...   \n",
       "...         ...                                                ...   \n",
       "1497  tt8760684  [apollo 11, neil armstrong, buzz aldrin, astro...   \n",
       "1498  tt9124428  [horse, race, love, success, turkey, hope, can...   \n",
       "1499  tt9135854  [football, barcelona fc, reference to pep guar...   \n",
       "1500  tt9151704  [korean boy band, pool party, testimonial, con...   \n",
       "1501  tt9343826                                           [romcom]   \n",
       "\n",
       "                                                 titulo  \n",
       "0                                   Intolerancia (1916)  \n",
       "1                   El gabinete del Dr. Caligari (1920)  \n",
       "2                                       El chico (1921)  \n",
       "3                            La carreta fantasma (1921)  \n",
       "4                                      Nosferatu (1922)  \n",
       "...                                                 ...  \n",
       "1497                                   Apollo 11 (2019)  \n",
       "1498                         Bizim Için Sampiyon (2018)  \n",
       "1499  Take the ball, pass the ball (Toca y pasa el b...  \n",
       "1500                   Burn The Stage. The movie (2018)  \n",
       "1501                         Ananthu V/S Nusrath (2018)  \n",
       "\n",
       "[1502 rows x 3 columns]"
      ]
     },
     "execution_count": 22,
     "metadata": {},
     "output_type": "execute_result"
    }
   ],
   "source": [
    "keywords_df"
   ]
  },
  {
   "cell_type": "code",
   "execution_count": 23,
   "metadata": {},
   "outputs": [
    {
     "data": {
      "text/html": [
       "<div>\n",
       "<style scoped>\n",
       "    .dataframe tbody tr th:only-of-type {\n",
       "        vertical-align: middle;\n",
       "    }\n",
       "\n",
       "    .dataframe tbody tr th {\n",
       "        vertical-align: top;\n",
       "    }\n",
       "\n",
       "    .dataframe thead th {\n",
       "        text-align: right;\n",
       "    }\n",
       "</style>\n",
       "<table border=\"1\" class=\"dataframe\">\n",
       "  <thead>\n",
       "    <tr style=\"text-align: right;\">\n",
       "      <th></th>\n",
       "      <th>idImdb</th>\n",
       "      <th>keywords</th>\n",
       "      <th>titulo</th>\n",
       "    </tr>\n",
       "  </thead>\n",
       "  <tbody>\n",
       "    <tr>\n",
       "      <th>1007</th>\n",
       "      <td>tt0372784</td>\n",
       "      <td>[social decay, well, deception, falling down a...</td>\n",
       "      <td>Batman Begins (2005)</td>\n",
       "    </tr>\n",
       "  </tbody>\n",
       "</table>\n",
       "</div>"
      ],
      "text/plain": [
       "         idImdb                                           keywords  \\\n",
       "1007  tt0372784  [social decay, well, deception, falling down a...   \n",
       "\n",
       "                    titulo  \n",
       "1007  Batman Begins (2005)  "
      ]
     },
     "execution_count": 23,
     "metadata": {},
     "output_type": "execute_result"
    }
   ],
   "source": [
    "keywords_df[keywords_df.titulo.str.lower().str.contains(\"batman\")]"
   ]
  },
  {
   "cell_type": "code",
   "execution_count": 24,
   "metadata": {},
   "outputs": [],
   "source": [
    "keywords_df.keywords = keywords_df.keywords.map(lambda x: \" \".join(x))"
   ]
  },
  {
   "cell_type": "code",
   "execution_count": 25,
   "metadata": {},
   "outputs": [],
   "source": [
    "tf_keywords = TfidfVectorizer(analyzer=\"word\", min_df=1).fit(keywords_df.keywords)"
   ]
  },
  {
   "cell_type": "code",
   "execution_count": 26,
   "metadata": {},
   "outputs": [],
   "source": [
    "tfidf_matrix_keywords = tf_keywords.transform(keywords_df.keywords)"
   ]
  },
  {
   "cell_type": "code",
   "execution_count": 27,
   "metadata": {},
   "outputs": [
    {
     "data": {
      "text/plain": [
       "(1502, 16491)"
      ]
     },
     "execution_count": 27,
     "metadata": {},
     "output_type": "execute_result"
    }
   ],
   "source": [
    "tfidf_matrix_keywords.shape"
   ]
  },
  {
   "cell_type": "code",
   "execution_count": 28,
   "metadata": {},
   "outputs": [],
   "source": [
    "cosine_similarity_keywords = cosine_similarity(tfidf_matrix_keywords, tfidf_matrix_keywords)"
   ]
  },
  {
   "cell_type": "markdown",
   "metadata": {},
   "source": [
    "Función que recomienda película por palabra clave "
   ]
  },
  {
   "cell_type": "code",
   "execution_count": 29,
   "metadata": {},
   "outputs": [],
   "source": [
    "titles = keywords_df[\"titulo\"]\n",
    "indices = pd.Series(keywords_df.index, index=keywords_df[\"titulo\"])\n",
    "\n",
    "def keyword_recommendations(title):\n",
    "    # Obtener el índice correspondiente al título de la película\n",
    "    idx = indices.loc[title]\n",
    "    \n",
    "    # Obtener los puntajes de similitud de género de todas las películas\n",
    "    sim_scores = list(enumerate(cosine_similarity_keywords[idx]))\n",
    "    \n",
    "    # Ordenar los puntajes de similitud en orden descendente\n",
    "    sim_scores = sorted(sim_scores, key=lambda x: x[1], reverse=True)\n",
    "    \n",
    "    # Obtener los índices de las películas más similares (excluyendo la película de consulta)\n",
    "    sim_scores = sim_scores[1:21]  # Excluyendo el índice 0, que es la propia película\n",
    "    \n",
    "    # Obtener los índices de las películas recomendadas\n",
    "    movie_indices = [i[0] for i in sim_scores]\n",
    "    \n",
    "    # Devolver los títulos de las películas recomendadas\n",
    "    return titles.iloc[movie_indices]\n"
   ]
  },
  {
   "cell_type": "code",
   "execution_count": 30,
   "metadata": {},
   "outputs": [
    {
     "data": {
      "text/plain": [
       "1191    El caballero oscuro: La leyenda renace (2012)\n",
       "1081                       El caballero oscuro (2008)\n",
       "1365                                     Logan (2017)\n",
       "1300                                The Raid 2 (2014)\n",
       "1196                                    Origen (2010)\n",
       "1401                  Vengadores: Infinity War (2018)\n",
       "1203                                  Deadpool (2016)\n",
       "1048                               Infiltrados (2006)\n",
       "1197            Mad Max: Furia en la carretera (2015)\n",
       "726                     Sospechosos habituales (1995)\n",
       "652                        Uno de los nuestros (1990)\n",
       "623                          Jungla de cristal (1988)\n",
       "1114                            Los Vengadores (2012)\n",
       "584                                 Terminator (1984)\n",
       "1061                             V de Vendetta (2005)\n",
       "410                                 El padrino (1972)\n",
       "1025                             Casino Royale (2006)\n",
       "1256                         Blade Runner 2049 (2017)\n",
       "1260             X-Men: Días del futuro pasado (2014)\n",
       "622                                      Akira (1988)\n",
       "Name: titulo, dtype: object"
      ]
     },
     "execution_count": 30,
     "metadata": {},
     "output_type": "execute_result"
    }
   ],
   "source": [
    "keyword_recommendations(\"Batman Begins (2005)\").head(20)"
   ]
  },
  {
   "cell_type": "markdown",
   "metadata": {},
   "source": [
    "# Ejercicio 2: Recomendador basado en filtrado colaborativo\n",
    "\n",
    "Sistema de recomendaciones basado en filtrado colaborativo usando los datos de **last.fm**"
   ]
  },
  {
   "cell_type": "markdown",
   "metadata": {},
   "source": [
    "Los datos los descargué del link que vimos en clase: http://ocelma.net/MusicRecommendationDataset/lastfm-360K.html"
   ]
  },
  {
   "cell_type": "markdown",
   "metadata": {},
   "source": [
    "## **1. Introducción**\n",
    "\n",
    "En este proyecto, se desarrollará un sistema de recomendaciones basado en filtrado colaborativo utilizando datos de Last.fm. El filtrado colaborativo es una técnica comúnmente utilizada en sistemas de recomendación, la cual se basa en la agregación de preferencias o comportamientos de múltiples usuarios para hacer recomendaciones a un usuario específico. Este enfoque es especialmente útil en la recomendación de contenido donde la interacción del usuario con los ítems (como música, películas, productos) puede ser capturada y analizada.\n",
    "\n",
    "El objetivo principal es implementar un modelo de filtrado colaborativo, evaluarlo mediante un regresor, proporcionar ejemplos de recomendaciones para usuarios específicos y calcular e interpretar el error cuadrático medio (MSE) de las predicciones.\n",
    "\n"
   ]
  },
  {
   "cell_type": "markdown",
   "metadata": {},
   "source": [
    "## **Importación de librerías**\n",
    "\n",
    "Importamos las librerías necesarias para el análisis de datos, cálculo de similitudes y manipulación de matrices dispersas.\n"
   ]
  },
  {
   "cell_type": "code",
   "execution_count": 58,
   "metadata": {},
   "outputs": [],
   "source": [
    "import pandas as pd\n",
    "import numpy as np\n",
    "import matplotlib.pyplot as plt\n",
    "\n",
    "import os\n",
    "\n",
    "import pyspark\n",
    "from pyspark import SparkConf, SparkContext\n",
    "\n",
    "from pyspark.sql import SparkSession\n",
    "from pyspark.sql.functions import col, count, mean, when, explode, lower, trim, regexp_replace\n",
    "from pyspark.sql.functions import max as spark_max\n",
    "from pyspark.ml.recommendation import ALS\n",
    "from pyspark.ml.feature import StringIndexer\n",
    "from pyspark.ml.evaluation import RegressionEvaluator\n",
    "\n"
   ]
  },
  {
   "cell_type": "code",
   "execution_count": 59,
   "metadata": {},
   "outputs": [],
   "source": [
    "# Configuración del entorno\n",
    "os.environ[\"JAVA_HOME\"] = \"C:\\\\Program Files\\\\Java\\\\jdk-22\"\n",
    "os.environ[\"SPARK_HOME\"] = \"C:\\\\SPARK\""
   ]
  },
  {
   "cell_type": "code",
   "execution_count": 60,
   "metadata": {},
   "outputs": [],
   "source": [
    "# Crear una nueva configuración de Spark\n",
    "conf = SparkConf() \\\n",
    "    .setAppName(\"MusicRecommendationSystem\") \\\n",
    "    .set(\"spark.driver.memory\", \"4g\") \\\n",
    "    .set(\"spark.executor.memory\", \"4g\") \\\n",
    "    .set(\"spark.executor.cores\", \"2\") \\\n",
    "    .set(\"spark.driver.maxResultSize\", \"2g\") \\\n",
    "    .set(\"spark.network.timeout\", \"800s\") \\\n",
    "    .set(\"spark.executor.heartbeatInterval\", \"200s\") \\\n",
    "    .set(\"spark.python.worker.reuse\", \"true\") \\\n",
    "    .set(\"spark.serializer\", \"org.apache.spark.serializer.KryoSerializer\") \\\n",
    "    .set(\"spark.kryoserializer.buffer.max\", \"2000m\") \\\n",
    "    .set(\"spark.rpc.message.maxSize\", \"256\") \\\n",
    "    .set(\"spark.sql.execution.arrow.maxRecordsPerBatch\", \"1000\")"
   ]
  },
  {
   "cell_type": "code",
   "execution_count": 61,
   "metadata": {},
   "outputs": [],
   "source": [
    "# Iniciar una nueva sesión de Spark con la configuración actualizada\n",
    "spark = SparkSession.builder.config(conf=conf).getOrCreate()"
   ]
  },
  {
   "cell_type": "markdown",
   "metadata": {},
   "source": [
    "## **3.Carga y preparación de Datos**"
   ]
  },
  {
   "cell_type": "markdown",
   "metadata": {},
   "source": [
    "Primero, cargamos el archivo `usersha1-artmbid-artname-plays.tsv`, proporcionado por Last.fm. Estos datos contienen información sobre las interacciones de los usuarios con diferentes artistas, incluyendo el número de reproducciones.\n"
   ]
  },
  {
   "cell_type": "code",
   "execution_count": 62,
   "metadata": {},
   "outputs": [
    {
     "name": "stdout",
     "output_type": "stream",
     "text": [
      "+--------------------+--------------------+--------------------+------+\n",
      "|             user_id|           artist_id|         artist_name| plays|\n",
      "+--------------------+--------------------+--------------------+------+\n",
      "|00000c289a1829a80...|3bd73256-3905-4f3...|     betty blowtorch|2137.0|\n",
      "|00000c289a1829a80...|f2fb0ff0-5679-42e...|           die Ärzte|1099.0|\n",
      "|00000c289a1829a80...|b3ae82c2-e60b-455...|   melissa etheridge| 897.0|\n",
      "|00000c289a1829a80...|3d6bbeb7-f90e-4d1...|           elvenking| 717.0|\n",
      "|00000c289a1829a80...|bbd2ffd7-17f4-450...|juliette & the licks| 706.0|\n",
      "+--------------------+--------------------+--------------------+------+\n",
      "only showing top 5 rows\n",
      "\n"
     ]
    }
   ],
   "source": [
    "file_path = 'datos/lastfm-dataset-360K/usersha1-artmbid-artname-plays.tsv'\n",
    "df = spark.read.csv(file_path, sep='\\t', header=False, inferSchema=True)\n",
    "\n",
    "# Renombrar las columnas\n",
    "df = df.withColumnRenamed('_c0', 'user_id') \\\n",
    "       .withColumnRenamed('_c1', 'artist_id') \\\n",
    "       .withColumnRenamed('_c2', 'artist_name') \\\n",
    "       .withColumnRenamed('_c3', 'plays')\n",
    "\n",
    "df.show(5)"
   ]
  },
  {
   "cell_type": "markdown",
   "metadata": {},
   "source": [
    "Los datos consisten en cuatro columnas: user_id, artist_id, artist_name y plays, que representan el identificador del usuario, el identificador del artista y el número de reproducciones, respectivamente. "
   ]
  },
  {
   "cell_type": "markdown",
   "metadata": {},
   "source": [
    "## **4. Preprocesamiento de Datos**\n",
    "\n",
    "**Filtrado de datos**\n",
    "\n",
    "En este punto optaré por eliminar usuarios y artistas con pocas interacciones para que mis datos no tengan ruido y podamos garantizar la calidad de los datos."
   ]
  },
  {
   "cell_type": "code",
   "execution_count": 63,
   "metadata": {},
   "outputs": [
    {
     "name": "stdout",
     "output_type": "stream",
     "text": [
      "+--------------------+--------------------+-----------+-----+-----------------+-------------------+\n",
      "|           artist_id|             user_id|artist_name|plays|interactions_user|interactions_artist|\n",
      "+--------------------+--------------------+-----------+-----+-----------------+-------------------+\n",
      "|0004537a-4b12-43e...|034ce4267aada1aba...| ultra naté|268.0|               50|                241|\n",
      "|0004537a-4b12-43e...|14e36b8a721af57d0...| ultra naté| 67.0|               49|                241|\n",
      "|0004537a-4b12-43e...|292eb685e88b5ed3f...| ultra naté| 64.0|               49|                241|\n",
      "|0004537a-4b12-43e...|3774072a4ff69fe87...| ultra naté| 15.0|               46|                241|\n",
      "|0004537a-4b12-43e...|38e885ddc8f8b7fd2...| ultra naté| 14.0|               57|                241|\n",
      "+--------------------+--------------------+-----------+-----+-----------------+-------------------+\n",
      "only showing top 5 rows\n",
      "\n"
     ]
    }
   ],
   "source": [
    "# Filtrar usuarios con pocas interacciones\n",
    "min_user_interactions = 20\n",
    "user_interactions = df.groupBy(\"user_id\").agg(count(\"plays\").alias(\"interactions_user\"))\n",
    "active_users = user_interactions.filter(user_interactions.interactions_user >= min_user_interactions)\n",
    "df = df.join(active_users, on=\"user_id\", how=\"inner\")\n",
    "\n",
    "# Filtrar artistas con pocas interacciones\n",
    "min_artist_interactions = 50\n",
    "artist_interactions = df.groupBy(\"artist_id\").agg(count(\"plays\").alias(\"interactions_artist\"))\n",
    "popular_artists = artist_interactions.filter(artist_interactions.interactions_artist >= min_artist_interactions)\n",
    "df = df.join(popular_artists, on=\"artist_id\", how=\"inner\")\n",
    "\n",
    "df.show(5)\n"
   ]
  },
  {
   "cell_type": "markdown",
   "metadata": {},
   "source": [
    "**Normalización de los datos**\n",
    "\n",
    "Normalizamos las reproducciones de música para que los valores sean comparables entre diferentes usuarios."
   ]
  },
  {
   "cell_type": "code",
   "execution_count": 64,
   "metadata": {},
   "outputs": [
    {
     "name": "stdout",
     "output_type": "stream",
     "text": [
      "+--------------------+--------------------+-----------+-----+-----------------+-------------------+--------------------+\n",
      "|           artist_id|             user_id|artist_name|plays|interactions_user|interactions_artist|    normalized_plays|\n",
      "+--------------------+--------------------+-----------+-----+-----------------+-------------------+--------------------+\n",
      "|0004537a-4b12-43e...|034ce4267aada1aba...| ultra naté|268.0|               50|                241|6.393785622093869E-4|\n",
      "|0004537a-4b12-43e...|14e36b8a721af57d0...| ultra naté| 67.0|               49|                241|1.598446405523467...|\n",
      "|0004537a-4b12-43e...|292eb685e88b5ed3f...| ultra naté| 64.0|               49|                241|1.526874178410476...|\n",
      "|0004537a-4b12-43e...|3774072a4ff69fe87...| ultra naté| 15.0|               46|                241|3.578611355649554E-5|\n",
      "|0004537a-4b12-43e...|38e885ddc8f8b7fd2...| ultra naté| 14.0|               57|                241|3.340037265272917E-5|\n",
      "+--------------------+--------------------+-----------+-----+-----------------+-------------------+--------------------+\n",
      "only showing top 5 rows\n",
      "\n"
     ]
    }
   ],
   "source": [
    "# Calcular el valor máximo de reproducciones\n",
    "max_plays = df.agg(spark_max(\"plays\")).first()[0]\n",
    "\n",
    "# Normalizar las reproducciones\n",
    "df = df.withColumn(\"normalized_plays\", col(\"plays\") / max_plays)\n",
    "df.show(5)\n"
   ]
  },
  {
   "cell_type": "code",
   "execution_count": 65,
   "metadata": {},
   "outputs": [],
   "source": [
    "# Normalizar los nombres de los artistas\n",
    "df = df.withColumn(\"normalized_artist_name\", lower(trim(regexp_replace(col(\"artist_name\"), r'[^\\w\\s]', ''))))"
   ]
  },
  {
   "cell_type": "code",
   "execution_count": 66,
   "metadata": {},
   "outputs": [
    {
     "name": "stdout",
     "output_type": "stream",
     "text": [
      "+-------------------+----------------------+\n",
      "|artist_name        |normalized_artist_name|\n",
      "+-------------------+----------------------+\n",
      "|jelena karleusa    |jelena karleusa       |\n",
      "|jack mcmanus       |jack mcmanus          |\n",
      "|leb i sol          |leb i sol             |\n",
      "|ergs, the          |ergs the              |\n",
      "|mccarthy           |mccarthy              |\n",
      "|boney' nem         |boney nem             |\n",
      "|boney nem          |boney nem             |\n",
      "|consolidated       |consolidated          |\n",
      "|riddle of steel    |riddle of steel       |\n",
      "|kevin bloody wilson|kevin bloody wilson   |\n",
      "+-------------------+----------------------+\n",
      "only showing top 10 rows\n",
      "\n"
     ]
    }
   ],
   "source": [
    "# Mostrar algunas filas para verificar la normalización\n",
    "df.select(\"artist_name\", \"normalized_artist_name\").distinct().show(10, truncate=False)"
   ]
  },
  {
   "cell_type": "markdown",
   "metadata": {},
   "source": [
    "**Codificaciones para que el modelo soporte el tipo de datos**\n",
    "\n",
    "Convertiremos las columnas user_id y artist_id a tipos numéricos, usando la clase StringIndexer de pyspark.ml.feature. Este transformador asigna un índice numérico a cada valor único en una columna de cadena.\n",
    "\n",
    "Esta codificación se realiza para poder instanciar los modelos de más adelante.\n"
   ]
  },
  {
   "cell_type": "code",
   "execution_count": 67,
   "metadata": {},
   "outputs": [
    {
     "name": "stdout",
     "output_type": "stream",
     "text": [
      "+--------------------+--------------------+-----------+-----+-----------------+-------------------+--------------------+----------------------+----------+------------+\n",
      "|           artist_id|             user_id|artist_name|plays|interactions_user|interactions_artist|    normalized_plays|normalized_artist_name|user_index|artist_index|\n",
      "+--------------------+--------------------+-----------+-----+-----------------+-------------------+--------------------+----------------------+----------+------------+\n",
      "|0004537a-4b12-43e...|034ce4267aada1aba...| ultra naté|268.0|               50|                241|6.393785622093869E-4|             ultra nat|   63174.0|      9186.0|\n",
      "|0004537a-4b12-43e...|14e36b8a721af57d0...| ultra naté| 67.0|               49|                241|1.598446405523467...|             ultra nat|  172789.0|      9186.0|\n",
      "|0004537a-4b12-43e...|292eb685e88b5ed3f...| ultra naté| 64.0|               49|                241|1.526874178410476...|             ultra nat|   86926.0|      9186.0|\n",
      "|0004537a-4b12-43e...|3774072a4ff69fe87...| ultra naté| 15.0|               46|                241|3.578611355649554E-5|             ultra nat|  243808.0|      9186.0|\n",
      "|0004537a-4b12-43e...|38e885ddc8f8b7fd2...| ultra naté| 14.0|               57|                241|3.340037265272917E-5|             ultra nat|  259327.0|      9186.0|\n",
      "+--------------------+--------------------+-----------+-----+-----------------+-------------------+--------------------+----------------------+----------+------------+\n",
      "only showing top 5 rows\n",
      "\n"
     ]
    }
   ],
   "source": [
    "# Convertir user_id a numérico\n",
    "user_indexer = StringIndexer(inputCol=\"user_id\", outputCol=\"user_index\")\n",
    "df = user_indexer.fit(df).transform(df)\n",
    "\n",
    "# Convertir artist_id a numérico\n",
    "artist_indexer = StringIndexer(inputCol=\"artist_id\", outputCol=\"artist_index\")\n",
    "df = artist_indexer.fit(df).transform(df)\n",
    "\n",
    "df.show(5)"
   ]
  },
  {
   "cell_type": "markdown",
   "metadata": {},
   "source": [
    "**Verificación de valores nulos**\n",
    "\n",
    "Nos aseguramos de que no haya valores nulos en las columnas user_index, artist_index y normalized_plays."
   ]
  },
  {
   "cell_type": "code",
   "execution_count": 68,
   "metadata": {},
   "outputs": [
    {
     "name": "stdout",
     "output_type": "stream",
     "text": [
      "Valores nulos en el conjunto de datos:\n",
      "+---------+-------+-----------+-----+-----------------+-------------------+----------------+----------------------+----------+------------+\n",
      "|artist_id|user_id|artist_name|plays|interactions_user|interactions_artist|normalized_plays|normalized_artist_name|user_index|artist_index|\n",
      "+---------+-------+-----------+-----+-----------------+-------------------+----------------+----------------------+----------+------------+\n",
      "|        0|      0|          0|    2|                0|                  0|               2|                     0|         0|           0|\n",
      "+---------+-------+-----------+-----+-----------------+-------------------+----------------+----------------------+----------+------------+\n",
      "\n"
     ]
    }
   ],
   "source": [
    "# Verificar si hay valores nulos\n",
    "print(\"Valores nulos en el conjunto de datos:\")\n",
    "df.select([count(when(col(c).isNull(), c)).alias(c) for c in df.columns]).show()\n",
    "\n",
    "# Eliminar filas con valores nulos\n",
    "df = df.na.drop(subset=[\"user_index\", \"artist_index\", \"normalized_plays\"])\n"
   ]
  },
  {
   "cell_type": "markdown",
   "metadata": {},
   "source": [
    "**Verificación de tipos de datos**"
   ]
  },
  {
   "cell_type": "code",
   "execution_count": 69,
   "metadata": {},
   "outputs": [
    {
     "name": "stdout",
     "output_type": "stream",
     "text": [
      "Tipos de datos del dataframe:\n",
      "root\n",
      " |-- artist_id: string (nullable = true)\n",
      " |-- user_id: string (nullable = true)\n",
      " |-- artist_name: string (nullable = true)\n",
      " |-- plays: double (nullable = true)\n",
      " |-- interactions_user: long (nullable = false)\n",
      " |-- interactions_artist: long (nullable = false)\n",
      " |-- normalized_plays: double (nullable = true)\n",
      " |-- normalized_artist_name: string (nullable = true)\n",
      " |-- user_index: double (nullable = false)\n",
      " |-- artist_index: double (nullable = false)\n",
      "\n"
     ]
    }
   ],
   "source": [
    "print(\"Tipos de datos del dataframe:\")\n",
    "df.printSchema()"
   ]
  },
  {
   "cell_type": "markdown",
   "metadata": {},
   "source": [
    "## **5. División de los datos en entrenamiento y prueba**\n",
    "\n",
    "Dividimos los datos en conjuntos de entrenamiento y prueba para evaluar nuestro modelo.\n",
    "\n"
   ]
  },
  {
   "cell_type": "code",
   "execution_count": 70,
   "metadata": {},
   "outputs": [],
   "source": [
    "# Dividir los datos en conjuntos de entrenamiento y prueba\n",
    "(train_data, test_data) = df.randomSplit([0.8, 0.2], seed=1234)"
   ]
  },
  {
   "cell_type": "markdown",
   "metadata": {},
   "source": [
    "## **6. Creación del modelo de filtrado colaborativo**\n",
    "\n",
    "Utilizamos el algoritmo Alternating Least Squares (ALS) para el filtrado colaborativo, una técnica comúnmente utilizada en sistemas de recomendación.\n",
    "\n",
    "**Explicación teórica del ALS**\n",
    "\n",
    "ALS es un algoritmo que se utiliza para completar matrices dispersas, lo que es ideal para sistemas de recomendación. Funciona alternando entre fijar los factores de usuario y actualizar los factores de ítem para minimizar el error cuadrático medio."
   ]
  },
  {
   "cell_type": "code",
   "execution_count": 71,
   "metadata": {},
   "outputs": [
    {
     "name": "stdout",
     "output_type": "stream",
     "text": [
      "Modelo entrenado exitosamente.\n"
     ]
    }
   ],
   "source": [
    "als = ALS(maxIter=10, \n",
    "          regParam=0.1, \n",
    "          userCol=\"user_index\", \n",
    "          itemCol=\"artist_index\", \n",
    "          ratingCol=\"normalized_plays\", \n",
    "          coldStartStrategy=\"drop\")\n",
    "\n",
    "# Entrenar el modelo\n",
    "try:\n",
    "    model = als.fit(train_data)\n",
    "    print(\"Modelo entrenado exitosamente.\")\n",
    "except Exception as e:\n",
    "    print(f\"Error al entrenar el modelo: {e}\")"
   ]
  },
  {
   "cell_type": "markdown",
   "metadata": {},
   "source": [
    "## **7. Evaluación del modelo**\n",
    "\n",
    "Evaluamos el rendimiento del modelo utilizando Root Mean Square Error (RMSE).\n",
    "\n",
    "La métrica RMSE es útil para medir la diferencia entre los valores predichos por el modelo y los valores reales en la escala de la variable dependiente, en este caso, el número de reproducciones normalizadas."
   ]
  },
  {
   "cell_type": "code",
   "execution_count": 72,
   "metadata": {},
   "outputs": [
    {
     "name": "stdout",
     "output_type": "stream",
     "text": [
      "Root-mean-square error = 0.0015499249699406183\n"
     ]
    }
   ],
   "source": [
    "# Hacer predicciones\n",
    "predictions = model.transform(test_data)\n",
    "\n",
    "# Evaluar el modelo\n",
    "evaluator = RegressionEvaluator(metricName=\"rmse\", labelCol=\"normalized_plays\", predictionCol=\"prediction\")\n",
    "rmse = evaluator.evaluate(predictions)\n",
    "print(f\"Root-mean-square error = {rmse}\")"
   ]
  },
  {
   "cell_type": "markdown",
   "metadata": {},
   "source": [
    "Un valor de Root-mean-square error = 0.0015499249699406183 es indicativo de una diferencia mínima entre las predicciones del modelo y los valores reales; y en nuetsro caso, que sea bajo es lo deseable. Aquí ya hay que tener cuidado con sobreajustar... pero eso lo veremos adelante.\n"
   ]
  },
  {
   "cell_type": "markdown",
   "metadata": {},
   "source": [
    "## **8. Generación de recomendaciones**\n",
    "\n",
    "Finalmente, generamos recomendaciones para los usuarios.\n"
   ]
  },
  {
   "cell_type": "code",
   "execution_count": 73,
   "metadata": {},
   "outputs": [
    {
     "name": "stdout",
     "output_type": "stream",
     "text": [
      "+----------+--------------------------------------------------------------------------------------------------------------+\n",
      "|user_index|recommendations                                                                                               |\n",
      "+----------+--------------------------------------------------------------------------------------------------------------+\n",
      "|31        |[{99, 0.0}, {98, 0.0}, {97, 0.0}, {96, 0.0}, {95, 0.0}, {94, 0.0}, {93, 0.0}, {92, 0.0}, {91, 0.0}, {90, 0.0}]|\n",
      "|53        |[{99, 0.0}, {98, 0.0}, {97, 0.0}, {96, 0.0}, {95, 0.0}, {94, 0.0}, {93, 0.0}, {92, 0.0}, {91, 0.0}, {90, 0.0}]|\n",
      "|65        |[{99, 0.0}, {98, 0.0}, {97, 0.0}, {96, 0.0}, {95, 0.0}, {94, 0.0}, {93, 0.0}, {92, 0.0}, {91, 0.0}, {90, 0.0}]|\n",
      "|78        |[{99, 0.0}, {98, 0.0}, {97, 0.0}, {96, 0.0}, {95, 0.0}, {94, 0.0}, {93, 0.0}, {92, 0.0}, {91, 0.0}, {90, 0.0}]|\n",
      "|85        |[{99, 0.0}, {98, 0.0}, {97, 0.0}, {96, 0.0}, {95, 0.0}, {94, 0.0}, {93, 0.0}, {92, 0.0}, {91, 0.0}, {90, 0.0}]|\n",
      "+----------+--------------------------------------------------------------------------------------------------------------+\n",
      "only showing top 5 rows\n",
      "\n",
      "+------------+------------------------------------------------------------------------------------------------------------------------------------------------------+\n",
      "|artist_index|recommendations                                                                                                                                       |\n",
      "+------------+------------------------------------------------------------------------------------------------------------------------------------------------------+\n",
      "|12          |[{327886, 0.0}, {327885, 0.0}, {327879, 0.0}, {327874, 0.0}, {327871, 0.0}, {327870, 0.0}, {327836, 0.0}, {327835, 0.0}, {327829, 0.0}, {327825, 0.0}]|\n",
      "|22          |[{327886, 0.0}, {327885, 0.0}, {327879, 0.0}, {327874, 0.0}, {327871, 0.0}, {327870, 0.0}, {327836, 0.0}, {327835, 0.0}, {327829, 0.0}, {327825, 0.0}]|\n",
      "|26          |[{327886, 0.0}, {327885, 0.0}, {327879, 0.0}, {327874, 0.0}, {327871, 0.0}, {327870, 0.0}, {327836, 0.0}, {327835, 0.0}, {327829, 0.0}, {327825, 0.0}]|\n",
      "|27          |[{327886, 0.0}, {327885, 0.0}, {327879, 0.0}, {327874, 0.0}, {327871, 0.0}, {327870, 0.0}, {327836, 0.0}, {327835, 0.0}, {327829, 0.0}, {327825, 0.0}]|\n",
      "|28          |[{327886, 0.0}, {327885, 0.0}, {327879, 0.0}, {327874, 0.0}, {327871, 0.0}, {327870, 0.0}, {327836, 0.0}, {327835, 0.0}, {327829, 0.0}, {327825, 0.0}]|\n",
      "+------------+------------------------------------------------------------------------------------------------------------------------------------------------------+\n",
      "only showing top 5 rows\n",
      "\n"
     ]
    }
   ],
   "source": [
    "# Generar recomendaciones para todos los usuarios\n",
    "user_recommendations = model.recommendForAllUsers(10)\n",
    "user_recommendations.show(5, truncate=False)\n",
    "\n",
    "# Generar recomendaciones para todos los artistas\n",
    "artist_recommendations = model.recommendForAllItems(10)\n",
    "artist_recommendations.show(5, truncate=False)\n"
   ]
  },
  {
   "cell_type": "markdown",
   "metadata": {},
   "source": [
    "## **9. Análisis del sistema de recomendación**\n",
    "\n",
    "**Selección de un usuario**\n",
    "\n",
    "Primero, seleccionamos un usuario con una cantidad considerable de interacciones para analizar las recomendaciones."
   ]
  },
  {
   "cell_type": "code",
   "execution_count": 74,
   "metadata": {},
   "outputs": [
    {
     "name": "stdout",
     "output_type": "stream",
     "text": [
      "Analizando recomendaciones para el usuario: 034ce4267aada1ababad044526fd58e22e899e6b\n"
     ]
    }
   ],
   "source": [
    "# Seleccionar un usuario para el análisis\n",
    "user_id_for_analysis = df.select(\"user_id\").distinct().limit(1).collect()[0][0]\n",
    "\n",
    "print(f\"Analizando recomendaciones para el usuario: {user_id_for_analysis}\")\n"
   ]
  },
  {
   "cell_type": "markdown",
   "metadata": {},
   "source": [
    "**Obtenemos las interacciones reales del usuario**\n",
    "\n",
    "Obtenemos las interacciones reales del usuario seleccionado, es decir, los artistas que ha reproducido y el número de reproducciones."
   ]
  },
  {
   "cell_type": "code",
   "execution_count": 75,
   "metadata": {},
   "outputs": [
    {
     "name": "stdout",
     "output_type": "stream",
     "text": [
      "+----------------+------+\n",
      "|artist_name     |plays |\n",
      "+----------------+------+\n",
      "|depeche mode    |2579.0|\n",
      "|pet shop boys   |2123.0|\n",
      "|goldfrapp       |1880.0|\n",
      "|saint etienne   |1369.0|\n",
      "|boards of canada|1257.0|\n",
      "|erasure         |1171.0|\n",
      "|kylie minogue   |1152.0|\n",
      "|new order       |1144.0|\n",
      "|cut copy        |1100.0|\n",
      "|trentemøller    |1073.0|\n",
      "+----------------+------+\n",
      "only showing top 10 rows\n",
      "\n"
     ]
    }
   ],
   "source": [
    "# Interacciones reales del usuario\n",
    "user_interactions = df.filter(df.user_id == user_id_for_analysis).select(\"artist_name\", \"plays\").orderBy(col(\"plays\").desc())\n",
    "user_interactions.show(10, truncate=False)\n"
   ]
  },
  {
   "cell_type": "markdown",
   "metadata": {},
   "source": [
    "**Obtenemos las recomendaciones para el usuario**\n",
    "\n",
    "Usamos el modelo para generar recomendaciones para el usuario seleccionado."
   ]
  },
  {
   "cell_type": "code",
   "execution_count": 76,
   "metadata": {},
   "outputs": [
    {
     "name": "stdout",
     "output_type": "stream",
     "text": [
      "+----------+--------------------------------------------------------------------------------------------------------------+\n",
      "|user_index|recommendations                                                                                               |\n",
      "+----------+--------------------------------------------------------------------------------------------------------------+\n",
      "|63174     |[{99, 0.0}, {98, 0.0}, {97, 0.0}, {96, 0.0}, {95, 0.0}, {94, 0.0}, {93, 0.0}, {92, 0.0}, {91, 0.0}, {90, 0.0}]|\n",
      "+----------+--------------------------------------------------------------------------------------------------------------+\n",
      "\n"
     ]
    }
   ],
   "source": [
    "# Obtener el índice del usuario\n",
    "user_index = df.filter(df.user_id == user_id_for_analysis).select(\"user_index\").distinct().collect()[0][0]\n",
    "\n",
    "# Generar recomendaciones para el usuario\n",
    "recommendations = model.recommendForUserSubset(df.filter(df.user_id == user_id_for_analysis).select(\"user_index\").distinct(), 10)\n",
    "\n",
    "# Explorar la estructura de las recomendaciones para asegurarse de que se obtiene correctamente\n",
    "recommendations.show(truncate=False)\n"
   ]
  },
  {
   "cell_type": "markdown",
   "metadata": {},
   "source": [
    "Estos índices de artistas recomendados corresponden a artistas que el usuario podría potencialmente disfrutar, basados en las interacciones de otros usuarios con gustos similares."
   ]
  },
  {
   "cell_type": "code",
   "execution_count": 77,
   "metadata": {},
   "outputs": [
    {
     "name": "stdout",
     "output_type": "stream",
     "text": [
      "root\n",
      " |-- user_index: integer (nullable = false)\n",
      " |-- recommendations: array (nullable = true)\n",
      " |    |-- element: struct (containsNull = true)\n",
      " |    |    |-- artist_index: integer (nullable = true)\n",
      " |    |    |-- rating: float (nullable = true)\n",
      "\n"
     ]
    }
   ],
   "source": [
    "recommendations.printSchema()"
   ]
  },
  {
   "cell_type": "markdown",
   "metadata": {},
   "source": [
    "Recuperemos los nombres: pasemos de índices a nombres de los artistas"
   ]
  },
  {
   "cell_type": "code",
   "execution_count": 78,
   "metadata": {},
   "outputs": [],
   "source": [
    "# Mapa de índices de artistas a nombres de artistas\n",
    "artist_dict = df.select(\"artist_index\", \"artist_name\").distinct().rdd.collectAsMap()"
   ]
  },
  {
   "cell_type": "code",
   "execution_count": 79,
   "metadata": {},
   "outputs": [],
   "source": [
    "# Explode the recommendations to flatten the structure\n",
    "recommendations = recommendations.withColumn(\"rec_exp\", explode(\"recommendations\"))"
   ]
  },
  {
   "cell_type": "code",
   "execution_count": 80,
   "metadata": {},
   "outputs": [],
   "source": [
    "# Unir las recomendaciones con el DataFrame original para obtener los nombres de los artistas\n",
    "recommendations = recommendations.join(df.select(\"artist_index\", \"artist_name\").distinct(), recommendations.rec_exp.artist_index == df.artist_index, \"inner\")\n",
    "recommendations = recommendations.select(\"user_index\", \"rec_exp.artist_index\", \"artist_name\")"
   ]
  },
  {
   "cell_type": "code",
   "execution_count": 81,
   "metadata": {},
   "outputs": [],
   "source": [
    "# Filtrar las recomendaciones para el usuario específico\n",
    "user_recommendations = recommendations.filter(recommendations.user_index == user_index)\n",
    "\n",
    "# Colectar los nombres de los artistas recomendados\n",
    "recommended_artist_names = [row.artist_name for row in user_recommendations.select(\"artist_name\").collect()]"
   ]
  },
  {
   "cell_type": "markdown",
   "metadata": {},
   "source": [
    "**Análisis comparativo**\n",
    "\n",
    "Comparamos las interacciones reales del usuario con las recomendaciones del sistema. Basicamente tomaremos las consultas anteriores, pero las que nos interesa para comparar.\n",
    "\n"
   ]
  },
  {
   "cell_type": "markdown",
   "metadata": {},
   "source": [
    "Veámos las interacciones reales del usuario, es decir, los artistas que ha reproducido y el número de reproducciones."
   ]
  },
  {
   "cell_type": "code",
   "execution_count": 82,
   "metadata": {},
   "outputs": [
    {
     "name": "stdout",
     "output_type": "stream",
     "text": [
      "+----------------+------+\n",
      "|artist_name     |plays |\n",
      "+----------------+------+\n",
      "|depeche mode    |2579.0|\n",
      "|pet shop boys   |2123.0|\n",
      "|goldfrapp       |1880.0|\n",
      "|saint etienne   |1369.0|\n",
      "|boards of canada|1257.0|\n",
      "|erasure         |1171.0|\n",
      "|kylie minogue   |1152.0|\n",
      "|new order       |1144.0|\n",
      "|cut copy        |1100.0|\n",
      "|trentemøller    |1073.0|\n",
      "+----------------+------+\n",
      "only showing top 10 rows\n",
      "\n"
     ]
    },
    {
     "data": {
      "image/png": "[encoded data removed]",
      "text/plain": [
       "<Figure size 1500x1000 with 1 Axes>"
      ]
     },
     "metadata": {},
     "output_type": "display_data"
    }
   ],
   "source": [
    "# Interacciones reales del usuario\n",
    "user_interactions.show(10, truncate=False)\n",
    "\n",
    "user_interactions_pd = user_interactions.toPandas()\n",
    "\n",
    "plt.figure(figsize=(15, 10))\n",
    "plt.barh(user_interactions_pd['artist_name'], user_interactions_pd['plays'], color='skyblue')\n",
    "plt.xlabel('Plays')\n",
    "plt.ylabel('Artist')\n",
    "plt.title('Interacciones reales del usuario')\n",
    "plt.gca().invert_yaxis()\n",
    "plt.show()\n",
    "\n"
   ]
  },
  {
   "cell_type": "markdown",
   "metadata": {},
   "source": [
    "Recolectamos los artistas recomendados por el modelo"
   ]
  },
  {
   "cell_type": "code",
   "execution_count": 83,
   "metadata": {},
   "outputs": [
    {
     "name": "stdout",
     "output_type": "stream",
     "text": [
      "Artistas recomendados: ['black sabbath', 'jimiy hendrix', 'timi hendrix', 'jimi hendrix', 'cat power', 'jones, norah', 'nowa jones', 'norah jones', 'beirut', 'paramore', 'feist', 'avril lavigne', 'evril lavigne', 'avril lavignme', 'avril lavicne', 'elliott smith', 'elliotte smith', 'boards of canada']\n"
     ]
    }
   ],
   "source": [
    "# Artistas recomendados por el sistema\n",
    "print(f\"Artistas recomendados: {recommended_artist_names}\")\n"
   ]
  },
  {
   "cell_type": "markdown",
   "metadata": {},
   "source": [
    "Claramente los nombres de los artistas tienen erratas. Limpiemos un poco, con regex, para el análisis"
   ]
  },
  {
   "cell_type": "code",
   "execution_count": 84,
   "metadata": {},
   "outputs": [
    {
     "data": {
      "text/html": [
       "<div>\n",
       "<style scoped>\n",
       "    .dataframe tbody tr th:only-of-type {\n",
       "        vertical-align: middle;\n",
       "    }\n",
       "\n",
       "    .dataframe tbody tr th {\n",
       "        vertical-align: top;\n",
       "    }\n",
       "\n",
       "    .dataframe thead th {\n",
       "        text-align: right;\n",
       "    }\n",
       "</style>\n",
       "<table border=\"1\" class=\"dataframe\">\n",
       "  <thead>\n",
       "    <tr style=\"text-align: right;\">\n",
       "      <th></th>\n",
       "      <th>artist_name</th>\n",
       "    </tr>\n",
       "  </thead>\n",
       "  <tbody>\n",
       "    <tr>\n",
       "      <th>0</th>\n",
       "      <td>black sabbath</td>\n",
       "    </tr>\n",
       "    <tr>\n",
       "      <th>1</th>\n",
       "      <td>jimi hendrix</td>\n",
       "    </tr>\n",
       "    <tr>\n",
       "      <th>2</th>\n",
       "      <td>cat power</td>\n",
       "    </tr>\n",
       "    <tr>\n",
       "      <th>3</th>\n",
       "      <td>norah jones</td>\n",
       "    </tr>\n",
       "    <tr>\n",
       "      <th>4</th>\n",
       "      <td>beirut</td>\n",
       "    </tr>\n",
       "    <tr>\n",
       "      <th>5</th>\n",
       "      <td>paramore</td>\n",
       "    </tr>\n",
       "    <tr>\n",
       "      <th>6</th>\n",
       "      <td>feist</td>\n",
       "    </tr>\n",
       "    <tr>\n",
       "      <th>7</th>\n",
       "      <td>avril lavigne</td>\n",
       "    </tr>\n",
       "    <tr>\n",
       "      <th>8</th>\n",
       "      <td>elliott smith</td>\n",
       "    </tr>\n",
       "    <tr>\n",
       "      <th>9</th>\n",
       "      <td>boards of canada</td>\n",
       "    </tr>\n",
       "  </tbody>\n",
       "</table>\n",
       "</div>"
      ],
      "text/plain": [
       "        artist_name\n",
       "0     black sabbath\n",
       "1      jimi hendrix\n",
       "2         cat power\n",
       "3       norah jones\n",
       "4            beirut\n",
       "5          paramore\n",
       "6             feist\n",
       "7     avril lavigne\n",
       "8     elliott smith\n",
       "9  boards of canada"
      ]
     },
     "execution_count": 84,
     "metadata": {},
     "output_type": "execute_result"
    }
   ],
   "source": [
    "recommended_artists_df = pd.DataFrame(recommended_artist_names, columns=['artist_name'])\n",
    "\n",
    "recommended_artists_df['artist_name'] = recommended_artists_df['artist_name'].replace({\n",
    "    r'jim[iy]{2} hendrix|timi hendrix': 'jimi hendrix',\n",
    "    r'jones, norah|nowa jones': 'norah jones',\n",
    "    r'evril lavigne|avril lavignm?e|avril lavicne': 'avril lavigne',\n",
    "    r'elliotte smith': 'elliott smith'\n",
    "}, regex=True)\n",
    "\n",
    "recommended_artists_df = recommended_artists_df.drop_duplicates().reset_index(drop=True)\n",
    "recommended_artists_df"
   ]
  },
  {
   "cell_type": "markdown",
   "metadata": {},
   "source": [
    "Identifiquemos los artistas que están en ambas listas, las interacciones reales y las recomendaciones."
   ]
  },
  {
   "cell_type": "code",
   "execution_count": 85,
   "metadata": {},
   "outputs": [
    {
     "data": {
      "text/html": [
       "<div>\n",
       "<style scoped>\n",
       "    .dataframe tbody tr th:only-of-type {\n",
       "        vertical-align: middle;\n",
       "    }\n",
       "\n",
       "    .dataframe tbody tr th {\n",
       "        vertical-align: top;\n",
       "    }\n",
       "\n",
       "    .dataframe thead th {\n",
       "        text-align: right;\n",
       "    }\n",
       "</style>\n",
       "<table border=\"1\" class=\"dataframe\">\n",
       "  <thead>\n",
       "    <tr style=\"text-align: right;\">\n",
       "      <th></th>\n",
       "      <th>artist_name</th>\n",
       "      <th>plays</th>\n",
       "    </tr>\n",
       "  </thead>\n",
       "  <tbody>\n",
       "    <tr>\n",
       "      <th>0</th>\n",
       "      <td>boards of canada</td>\n",
       "      <td>1257.0</td>\n",
       "    </tr>\n",
       "  </tbody>\n",
       "</table>\n",
       "</div>"
      ],
      "text/plain": [
       "        artist_name   plays\n",
       "0  boards of canada  1257.0"
      ]
     },
     "execution_count": 85,
     "metadata": {},
     "output_type": "execute_result"
    }
   ],
   "source": [
    "common_artists = recommended_artists_df.merge(user_interactions_pd, on='artist_name')\n",
    "common_artists"
   ]
  },
  {
   "cell_type": "markdown",
   "metadata": {},
   "source": [
    "En este caso, el sistema de recomendación acertó al sugerir \"boards of canada\", un artista que el usuario ya ha escuchado y que tiene un número considerable de reproducciones (1257.0 plays). Esto valida la efectividad del modelo al capturar y recomendar correctamente las preferencias del usuario."
   ]
  },
  {
   "cell_type": "markdown",
   "metadata": {},
   "source": [
    "Identifiquemos ahora los artistas que fueron recomendados por el sistema pero que el usuario no había escuchado anteriormente."
   ]
  },
  {
   "cell_type": "code",
   "execution_count": 86,
   "metadata": {},
   "outputs": [
    {
     "data": {
      "text/html": [
       "<div>\n",
       "<style scoped>\n",
       "    .dataframe tbody tr th:only-of-type {\n",
       "        vertical-align: middle;\n",
       "    }\n",
       "\n",
       "    .dataframe tbody tr th {\n",
       "        vertical-align: top;\n",
       "    }\n",
       "\n",
       "    .dataframe thead th {\n",
       "        text-align: right;\n",
       "    }\n",
       "</style>\n",
       "<table border=\"1\" class=\"dataframe\">\n",
       "  <thead>\n",
       "    <tr style=\"text-align: right;\">\n",
       "      <th></th>\n",
       "      <th>artist_name</th>\n",
       "    </tr>\n",
       "  </thead>\n",
       "  <tbody>\n",
       "    <tr>\n",
       "      <th>0</th>\n",
       "      <td>black sabbath</td>\n",
       "    </tr>\n",
       "    <tr>\n",
       "      <th>1</th>\n",
       "      <td>jimi hendrix</td>\n",
       "    </tr>\n",
       "    <tr>\n",
       "      <th>2</th>\n",
       "      <td>cat power</td>\n",
       "    </tr>\n",
       "    <tr>\n",
       "      <th>3</th>\n",
       "      <td>norah jones</td>\n",
       "    </tr>\n",
       "    <tr>\n",
       "      <th>4</th>\n",
       "      <td>beirut</td>\n",
       "    </tr>\n",
       "    <tr>\n",
       "      <th>5</th>\n",
       "      <td>paramore</td>\n",
       "    </tr>\n",
       "    <tr>\n",
       "      <th>6</th>\n",
       "      <td>feist</td>\n",
       "    </tr>\n",
       "    <tr>\n",
       "      <th>7</th>\n",
       "      <td>avril lavigne</td>\n",
       "    </tr>\n",
       "    <tr>\n",
       "      <th>8</th>\n",
       "      <td>elliott smith</td>\n",
       "    </tr>\n",
       "  </tbody>\n",
       "</table>\n",
       "</div>"
      ],
      "text/plain": [
       "     artist_name\n",
       "0  black sabbath\n",
       "1   jimi hendrix\n",
       "2      cat power\n",
       "3    norah jones\n",
       "4         beirut\n",
       "5       paramore\n",
       "6          feist\n",
       "7  avril lavigne\n",
       "8  elliott smith"
      ]
     },
     "execution_count": 86,
     "metadata": {},
     "output_type": "execute_result"
    }
   ],
   "source": [
    "# Artistas recomendados que no estaban en las interacciones reales\n",
    "new_recommendations = recommended_artists_df[~recommended_artists_df['artist_name'].isin(user_interactions_pd['artist_name'])]\n",
    "new_recommendations"
   ]
  },
  {
   "cell_type": "markdown",
   "metadata": {},
   "source": [
    "**Conclusiones**"
   ]
  },
  {
   "cell_type": "markdown",
   "metadata": {},
   "source": [
    "El análisis de las recomendaciones específicas para el usuario seleccionado muestra que el modelo ALS ha sido efectivo en identificar al menos un artista (\"boards of canada\") que el usuario ya disfruta, indicando la precisión del modelo en la personalización de las recomendaciones. Además, la lista de nuevos artistas recomendados ofrece oportunidades para que el usuario descubra nueva música basada en sus gustos actuales y las tendencias de otros usuarios similares.\n",
    "\n",
    "Este análisis también sugiere que una mayor validación con otros usuarios y una evaluación continua de las recomendaciones puede ayudar a mejorar y ajustar el modelo para un mejor rendimiento y personalización."
   ]
  },
  {
   "cell_type": "markdown",
   "metadata": {},
   "source": [
    "**Mejoras: Trabajo futuro**\n",
    "\n",
    "La salida de los artistas recomendados para el usuario seleccionado mostro una gran desnormalizacion de los nombres de los artistas. Esto suele pasar mucho el proyectos de BigData (me pasó igual en la practica de Spark) allí lo suyo es generar un preprocesamiento más robusto para tratar de pillar y normalizar la mayor cantidad de datos posible, de modo que el string indexer codifique sin duplicados, y así las predicciones puedan ser más finas. \n",
    "\n",
    "la primera mejora que propongo es de preprocesamiento y no de afinación directa de hiperparámetros por el principio de todo data sicentist: Garbage in, garbage out. \n",
    "\n",
    "Ahora, como segunda opción de mejora propongo explorar todas las estrategias que conocemos: Validación cruzada y optimización de hiperparámetros, con Grid Search o Random Search.\n",
    "\n",
    "También sería muy interesante poder incluir características adicionales de los artistas (géneros, años de actividad, etc.) porque de acuerdo a lo que estuve leyendo, esto mejora enormemente las recomendaciones y la personalización. \n",
    "\n",
    "Por último, el mencionado en clase: Feedback explícito e implicito. Calificaciones directas o, para el caso implicito, clics, tiempo de escucha, podrían proporcionar muuucha info sobre cada usuario y esto sin duda ayudaria a generar una personalización brutal. Pero claro, esto ya es una mejora que debe estar soportada por alguna plataforma que guarde esta info.. hasta donde supe, Netflix hace esto de guardar no solo el historial de reproducción sino tambien las pausas, avances y retrocesos. \n",
    "\n"
   ]
  },
  {
   "cell_type": "code",
   "execution_count": 87,
   "metadata": {},
   "outputs": [],
   "source": [
    "spark.stop()"
   ]
  }
 ],
 "metadata": {
  "kernelspec": {
   "display_name": "Python 3 (ipykernel)",
   "language": "python",
   "name": "python3"
  },
  "language_info": {
   "codemirror_mode": {
    "name": "ipython",
    "version": 3
   },
   "file_extension": ".py",
   "mimetype": "text/x-python",
   "name": "python",
   "nbconvert_exporter": "python",
   "pygments_lexer": "ipython3",
   "version": "3.12.3"
  }
 },
 "nbformat": 4,
 "nbformat_minor": 4
}
